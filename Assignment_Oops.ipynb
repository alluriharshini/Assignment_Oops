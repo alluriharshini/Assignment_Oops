{
 "cells": [
  {
   "cell_type": "markdown",
   "id": "df4f6231-0d92-448f-836f-525bdde718f6",
   "metadata": {},
   "source": [
    "Problem 1: Bank Account Create a class representing a bank account with attributes like account number, account holder name, and balance.\n",
    "Implement methods to deposit and withdraw money from the account."
   ]
  },
  {
   "cell_type": "code",
   "execution_count": 1,
   "id": "d19d8aa9-28ba-4416-935d-8b8d50133c04",
   "metadata": {},
   "outputs": [
    {
     "name": "stdout",
     "output_type": "stream",
     "text": [
      "Deposited $500.0. New balance: $1500.0\n",
      "Withdrew $200.0. New balance: $1300.0\n",
      "Current Balance: $1300.0\n",
      "Account Number: 123456789\n",
      "Account Holder: harshini\n",
      "Balance: $1300.0\n"
     ]
    }
   ],
   "source": [
    "class BankAccount:\n",
    "    def __init__(self, account_number, account_holder_name, balance=0.0):\n",
    "        self.account_number = account_number\n",
    "        self.account_holder_name = account_holder_name\n",
    "        self.balance = balance\n",
    "\n",
    "    def deposit(self, amount):\n",
    "        if amount > 0:\n",
    "            self.balance += amount\n",
    "            print(f\"Deposited ${amount}. New balance: ${self.balance}\")\n",
    "        else:\n",
    "            print(\"Invalid deposit amount. Please deposit a positive amount.\")\n",
    "\n",
    "    def withdraw(self, amount):\n",
    "        if 0 < amount <= self.balance:\n",
    "            self.balance -= amount\n",
    "            print(f\"Withdrew ${amount}. New balance: ${self.balance}\")\n",
    "        else:\n",
    "            print(\"Insufficient funds or invalid withdrawal amount.\")\n",
    "\n",
    "    def get_balance(self):\n",
    "        return self.balance\n",
    "\n",
    "    def __str__(self):\n",
    "        return f\"Account Number: {self.account_number}\\nAccount Holder: {self.account_holder_name}\\nBalance: ${self.balance}\"\n",
    "\n",
    "\n",
    "account1 = BankAccount(\"123456789\", \"harshini\", 1000.0)\n",
    "\n",
    "account1.deposit(500.0)\n",
    "\n",
    "account1.withdraw(200.0)\n",
    "\n",
    "balance = account1.get_balance()\n",
    "print(f\"Current Balance: ${balance}\")\n",
    "\n",
    "print(account1)\n"
   ]
  },
  {
   "cell_type": "markdown",
   "id": "e497cd85-889c-48a3-872c-9d80ea22d120",
   "metadata": {},
   "source": [
    "Problem 2: Employee Management Create a class representing an employee with attributes like employee ID, name, and salary. Implement methods to calculate the yearly bonus and display employee details."
   ]
  },
  {
   "cell_type": "code",
   "execution_count": 2,
   "id": "72fb7442-a940-4947-901c-30421ca7974a",
   "metadata": {},
   "outputs": [
    {
     "name": "stdout",
     "output_type": "stream",
     "text": [
      "Yearly Bonus: $5000.00\n",
      "Employee ID: 2691\n",
      "Name: Harshini Alluri\n",
      "Salary: $50000.00\n"
     ]
    }
   ],
   "source": [
    "class Employee:\n",
    "    def __init__(self, employee_id, name, salary):\n",
    "        self.employee_id = employee_id\n",
    "        self.name = name\n",
    "        self.salary = salary\n",
    "\n",
    "    def calculate_yearly_bonus(self, bonus_percentage):\n",
    "        \"\"\"\n",
    "        Calculate the yearly bonus based on the provided bonus_percentage.\n",
    "        Args:\n",
    "            bonus_percentage (float): The bonus percentage as a decimal (e.g., 0.10 for 10%).\n",
    "        Returns:\n",
    "            float: The calculated yearly bonus.\n",
    "        \"\"\"\n",
    "        yearly_bonus = self.salary * bonus_percentage\n",
    "        return yearly_bonus\n",
    "\n",
    "    def display_employee_details(self):\n",
    "        \"\"\"\n",
    "        Display employee details including ID, name, and salary.\n",
    "        \"\"\"\n",
    "        print(f\"Employee ID: {self.employee_id}\")\n",
    "        print(f\"Name: {self.name}\")\n",
    "        print(f\"Salary: ${self.salary:.2f}\")\n",
    "\n",
    "employee1 = Employee(2691, \"Harshini Alluri\", 50000.00)\n",
    "\n",
    "bonus_percentage = 0.10  \n",
    "yearly_bonus = employee1.calculate_yearly_bonus(bonus_percentage)\n",
    "print(f\"Yearly Bonus: ${yearly_bonus:.2f}\")\n",
    "\n",
    "employee1.display_employee_details()\n"
   ]
  },
  {
   "cell_type": "markdown",
   "id": "1345f311-16f3-43ff-9e79-f170f080b0f0",
   "metadata": {},
   "source": [
    "Problem 3: Vehicle Rental Create a class representing a vehicle rental system. Implement methods to rent a vehicle, return a vehicle, and display available vehicles."
   ]
  },
  {
   "cell_type": "code",
   "execution_count": 1,
   "id": "21d6042e-d357-4d52-8fe9-9a211f8fb54f",
   "metadata": {},
   "outputs": [
    {
     "name": "stdout",
     "output_type": "stream",
     "text": [
      "Rented Honda Civic for 3 days. Rental cost: $135.00\n",
      "Vehicle not found or not rented.\n",
      "Available: Toyota Camry\n"
     ]
    }
   ],
   "source": [
    "class Vehicle:\n",
    "    \n",
    "    def __init__(self, vehicle_id, make, model, year, rental_rate):\n",
    "        self.vehicle_id = vehicle_id\n",
    "        self.make = make\n",
    "        self.model = model\n",
    "        self.year = year\n",
    "        self.rental_rate = rental_rate\n",
    "        self.is_rented = False\n",
    "\n",
    "class RentalAgency:\n",
    "    def __init__(self):\n",
    "        self.vehicles = []\n",
    "        \n",
    "    def available_vehicles(self):\n",
    "        available_ = [vehicle for vehicle in self.vehicles if not vehicle.is_rented]\n",
    "        return available_\n",
    "\n",
    "    def add_vehicle(self, vehicle):\n",
    "        self.vehicles.append(vehicle)\n",
    "\n",
    "    def rent_vehicle(self, vehicle_id, days):\n",
    "        for vehicle in self.vehicles:\n",
    "            if vehicle.vehicle_id == vehicle_id and not vehicle.is_rented:\n",
    "                rental_cost = vehicle.rental_rate * days\n",
    "                vehicle.is_rented = True\n",
    "                return f\"Rented {vehicle.make} {vehicle.model} for {days} days. Rental cost: ${rental_cost:.2f}\"\n",
    "        return \"Vehicle not available for rental.\"\n",
    "\n",
    "    def return_vehicle(self, vehicle_id):\n",
    "        for vehicle in self.vehicles:\n",
    "            if vehicle.vehicle_id == vehicle_id and vehicle.is_rented:\n",
    "                vehicle.is_rented = False\n",
    "                return f\"Returned {vehicle.make} {vehicle.model}. Thank you!\"\n",
    "        return \"Vehicle not found or not rented.\"\n",
    "\n",
    "agency = RentalAgency()\n",
    "\n",
    "vehicle1 = Vehicle(1, \"Toyota\", \"Camry\", 2022, 50.0)\n",
    "vehicle2 = Vehicle(2, \"Honda\", \"Civic\", 2023, 45.0)\n",
    "\n",
    "agency.add_vehicle(vehicle1)\n",
    "agency.add_vehicle(vehicle2)\n",
    "print(agency.rent_vehicle(2, 3))\n",
    "print(agency.return_vehicle(1))\n",
    "\n",
    "available_vehicles = agency.available_vehicles()\n",
    "for vehicle in available_vehicles:\n",
    "    print(f\"Available: {vehicle.make} {vehicle.model}\")\n"
   ]
  },
  {
   "cell_type": "markdown",
   "id": "3c08ffc7-327b-4ea1-8294-449e28b8f07a",
   "metadata": {},
   "source": [
    "Problem 4: Library Catalog Create classes representing a library and a book. Implement methods to add books to the library, borrow books, and display available books."
   ]
  },
  {
   "cell_type": "code",
   "execution_count": 30,
   "id": "dc3ed8cd-ff52-471c-a27e-c6eeb094bc04",
   "metadata": {},
   "outputs": [
    {
     "name": "stdout",
     "output_type": "stream",
     "text": [
      "\n",
      "Menu:\n",
      "1. Add a book\n",
      "2. Borrow a book\n",
      "3. Display available books\n",
      "4. Quit\n"
     ]
    },
    {
     "name": "stdin",
     "output_type": "stream",
     "text": [
      "Enter your choice:  1\n",
      "Enter the title of the book to add:  python\n"
     ]
    },
    {
     "name": "stdout",
     "output_type": "stream",
     "text": [
      "python has been added to the library.\n",
      "\n",
      "Menu:\n",
      "1. Add a book\n",
      "2. Borrow a book\n",
      "3. Display available books\n",
      "4. Quit\n"
     ]
    },
    {
     "name": "stdin",
     "output_type": "stream",
     "text": [
      "Enter your choice:  1\n",
      "Enter the title of the book to add:  data science\n"
     ]
    },
    {
     "name": "stdout",
     "output_type": "stream",
     "text": [
      "data science has been added to the library.\n",
      "\n",
      "Menu:\n",
      "1. Add a book\n",
      "2. Borrow a book\n",
      "3. Display available books\n",
      "4. Quit\n"
     ]
    },
    {
     "name": "stdin",
     "output_type": "stream",
     "text": [
      "Enter your choice:  mathematics\n"
     ]
    },
    {
     "name": "stdout",
     "output_type": "stream",
     "text": [
      "Invalid choice. Please choose a valid option.\n",
      "\n",
      "Menu:\n",
      "1. Add a book\n",
      "2. Borrow a book\n",
      "3. Display available books\n",
      "4. Quit\n"
     ]
    },
    {
     "name": "stdin",
     "output_type": "stream",
     "text": [
      "Enter your choice:  3\n"
     ]
    },
    {
     "name": "stdout",
     "output_type": "stream",
     "text": [
      "Books available in the library:\n",
      "python\n",
      "data science\n",
      "\n",
      "Menu:\n",
      "1. Add a book\n",
      "2. Borrow a book\n",
      "3. Display available books\n",
      "4. Quit\n"
     ]
    },
    {
     "name": "stdin",
     "output_type": "stream",
     "text": [
      "Enter your choice:  2\n",
      "Enter the title of the book to borrow:  python\n"
     ]
    },
    {
     "name": "stdout",
     "output_type": "stream",
     "text": [
      "You have borrowed python.\n",
      "\n",
      "Menu:\n",
      "1. Add a book\n",
      "2. Borrow a book\n",
      "3. Display available books\n",
      "4. Quit\n"
     ]
    },
    {
     "name": "stdin",
     "output_type": "stream",
     "text": [
      "Enter your choice:  4\n"
     ]
    },
    {
     "name": "stdout",
     "output_type": "stream",
     "text": [
      "Thanks for coming to our library!\n"
     ]
    }
   ],
   "source": [
    "class Library:\n",
    "    def __init__(self):\n",
    "        self.books = []\n",
    "\n",
    "    def add_book(self, book_title):\n",
    "        self.books.append(book_title)\n",
    "        print(f\"{book_title} has been added to the library.\")\n",
    "\n",
    "    def borrow_book(self, book_title):\n",
    "        if book_title in self.books:\n",
    "            self.books.remove(book_title)\n",
    "            print(f\"You have borrowed {book_title}.\")\n",
    "        else:\n",
    "            print(f\"Sorry, {book_title} is not available in the library.\")\n",
    "\n",
    "    def display_books(self):\n",
    "        if self.books:\n",
    "            print(\"Books available in the library:\")\n",
    "            for book in self.books:\n",
    "                print(book)\n",
    "        else:\n",
    "            print(\"The library is currently empty.\")\n",
    "\n",
    "# Create a library object\n",
    "my_library = Library()\n",
    "\n",
    "while True:\n",
    "    print(\"\\nMenu:\")\n",
    "    print(\"1. Add a book\")\n",
    "    print(\"2. Borrow a book\")\n",
    "    print(\"3. Display available books\")\n",
    "    print(\"4. Quit\")\n",
    "\n",
    "    choice = input(\"Enter your choice: \")\n",
    "\n",
    "    if choice == '1':\n",
    "        book_title = input(\"Enter the title of the book to add: \")\n",
    "        my_library.add_book(book_title)\n",
    "    elif choice == '2':\n",
    "        book_title = input(\"Enter the title of the book to borrow: \")\n",
    "        my_library.borrow_book(book_title)\n",
    "    elif choice == '3':\n",
    "        my_library.display_books()\n",
    "    elif choice == '4':\n",
    "        print(\"Thanks for coming to our library!\")\n",
    "        break\n",
    "    else:\n",
    "        print(\"Invalid choice. Please choose a valid option.\")"
   ]
  },
  {
   "cell_type": "markdown",
   "id": "21bb5a49-06ef-4659-8202-9afeaae1bc01",
   "metadata": {},
   "source": [
    "Problem 5: Product Inventory Create classes representing a product and an inventory system. Implement methods to add products to the inventory, update product quantity, and display available products."
   ]
  },
  {
   "cell_type": "code",
   "execution_count": 2,
   "id": "8601dc6b-5e9e-40bd-a33d-3351bff1b332",
   "metadata": {},
   "outputs": [
    {
     "name": "stdout",
     "output_type": "stream",
     "text": [
      "Updated quantity for Smartphone to 8\n",
      "Available Products:\n",
      "Product ID: 1, Name: Laptop, Price: $999.99, Quantity: 5\n",
      "Product ID: 2, Name: Smartphone, Price: $599.99, Quantity: 8\n",
      "Product ID: 3, Name: Tablet, Price: $299.99, Quantity: 7\n"
     ]
    }
   ],
   "source": [
    "class Product:\n",
    "    def __init__(self, product_id, name, price, quantity):\n",
    "        self.product_id = product_id\n",
    "        self.name = name\n",
    "        self.price = price\n",
    "        self.quantity = quantity\n",
    "\n",
    "    def __str__(self):\n",
    "        return f\"Product ID: {self.product_id}, Name: {self.name}, Price: ${self.price:.2f}, Quantity: {self.quantity}\"\n",
    "\n",
    "class Inventory:\n",
    "    def __init__(self):\n",
    "        self.products = []\n",
    "\n",
    "    def add_product(self, product):\n",
    "        self.products.append(product)\n",
    "\n",
    "    def update_quantity(self, product_id, new_quantity):\n",
    "        for product in self.products:\n",
    "            if product.product_id == product_id:\n",
    "                product.quantity = new_quantity\n",
    "                return f\"Updated quantity for {product.name} to {new_quantity}\"\n",
    "        return \"Product not found in inventory.\"\n",
    "\n",
    "    def display_available_products(self):\n",
    "        available_products = [product for product in self.products if product.quantity > 0]\n",
    "        if not available_products:\n",
    "            return \"No available products in inventory.\"\n",
    "        return \"\\n\".join(str(product) for product in available_products)\n",
    "\n",
    "inventory = Inventory()\n",
    "\n",
    "product1 = Product(1, \"Laptop\", 999.99, 5)\n",
    "product2 = Product(2, \"Smartphone\", 599.99, 10)\n",
    "product3 = Product(3, \"Tablet\", 299.99, 7)\n",
    "\n",
    "inventory.add_product(product1)\n",
    "inventory.add_product(product2)\n",
    "inventory.add_product(product3)\n",
    "\n",
    "print(inventory.update_quantity(2, 8))\n",
    "\n",
    "print(\"Available Products:\")\n",
    "available_products = inventory.display_available_products()\n",
    "print(available_products)\n"
   ]
  },
  {
   "cell_type": "markdown",
   "id": "2a630ef7-a2f6-4d14-9408-abac85d913cf",
   "metadata": {},
   "source": [
    "Problem 6: Shape Calculation Create a class representing a shape with attributes like length, width, and height. Implement methods to calculate the area and perimeter of the shape."
   ]
  },
  {
   "cell_type": "code",
   "execution_count": 4,
   "id": "6495efc0-91d9-457f-bd14-245fadf38057",
   "metadata": {},
   "outputs": [
    {
     "name": "stdout",
     "output_type": "stream",
     "text": [
      "Rectangle - Area: 15, Perimeter: 16\n",
      "Square - Area: 16, Perimeter: 16\n"
     ]
    }
   ],
   "source": [
    " class Shape:\n",
    "    def __init__(self, length, width, height=None):\n",
    "        self.length = length\n",
    "        self.width = width\n",
    "        self.height = height\n",
    "\n",
    "    def calculate_area(self):\n",
    "        # For a rectangle, the area is length * width, area of a square is side*side\n",
    "        return self.length * self.width\n",
    "\n",
    "    def calculate_perimeter(self):\n",
    "        # For a rectangle, the perimeter is 2 * (length + width),perimeter of a sqaure 4 * side\n",
    "        return 2 * (self.length + self.width)\n",
    "\n",
    "rectangle = Shape(5, 3)\n",
    "area = rectangle.calculate_area()\n",
    "perimeter = rectangle.calculate_perimeter()\n",
    "\n",
    "print(f\"Rectangle - Area: {area}, Perimeter: {perimeter}\")\n",
    "\n",
    "square = Shape(4, 4)\n",
    "area = square.calculate_area()\n",
    "perimeter = square.calculate_perimeter()\n",
    "\n",
    "print(f\"Square - Area: {area}, Perimeter: {perimeter}\")\n"
   ]
  },
  {
   "cell_type": "code",
   "execution_count": null,
   "id": "ae71735a-187b-4893-81be-9a51c8cd8b3b",
   "metadata": {},
   "outputs": [],
   "source": []
  }
 ],
 "metadata": {
  "kernelspec": {
   "display_name": "Python 3 (ipykernel)",
   "language": "python",
   "name": "python3"
  },
  "language_info": {
   "codemirror_mode": {
    "name": "ipython",
    "version": 3
   },
   "file_extension": ".py",
   "mimetype": "text/x-python",
   "name": "python",
   "nbconvert_exporter": "python",
   "pygments_lexer": "ipython3",
   "version": "3.10.8"
  }
 },
 "nbformat": 4,
 "nbformat_minor": 5
}
